{
  "nbformat": 4,
  "nbformat_minor": 0,
  "metadata": {
    "colab": {
      "name": "medidas_de_tendencia_central.ipynb",
      "provenance": [],
      "collapsed_sections": [],
      "authorship_tag": "ABX9TyOwaz0fLI4oZ9mqETXMfQsY",
      "include_colab_link": true
    },
    "kernelspec": {
      "name": "python3",
      "display_name": "Python 3"
    }
  },
  "cells": [
    {
      "cell_type": "markdown",
      "metadata": {
        "id": "view-in-github",
        "colab_type": "text"
      },
      "source": [
        "<a href=\"https://colab.research.google.com/github/rgalicia0729/Help/blob/master/medidas_de_tendencia_central.ipynb\" target=\"_parent\"><img src=\"https://colab.research.google.com/assets/colab-badge.svg\" alt=\"Open In Colab\"/></a>"
      ]
    },
    {
      "cell_type": "markdown",
      "metadata": {
        "id": "zOf9gwFNBqEH",
        "colab_type": "text"
      },
      "source": [
        "# Medidas de tendencia central\n",
        "\n",
        "## Importando nuestras librerias"
      ]
    },
    {
      "cell_type": "code",
      "metadata": {
        "id": "XzAVgzm2BSjF",
        "colab_type": "code",
        "colab": {}
      },
      "source": [
        "import numpy as np\n",
        "import pandas as pd\n",
        "import scipy\n",
        "import scipy.stats"
      ],
      "execution_count": 0,
      "outputs": []
    },
    {
      "cell_type": "markdown",
      "metadata": {
        "id": "A-vff859CFdk",
        "colab_type": "text"
      },
      "source": [
        "## Cargando el Data Set y convertirlo a Dataframe"
      ]
    },
    {
      "cell_type": "code",
      "metadata": {
        "id": "tRh4PXKpCDIW",
        "colab_type": "code",
        "colab": {}
      },
      "source": [
        "df = pd.read_csv('https://raw.githubusercontent.com/rgalicia0729/estadistica_y_analisis_de_datos_con_python/master/bicicletas-compartidas.csv')"
      ],
      "execution_count": 0,
      "outputs": []
    },
    {
      "cell_type": "markdown",
      "metadata": {
        "id": "oJ42gBtWCl8z",
        "colab_type": "text"
      },
      "source": [
        "## Visualizamos el nombre de las columnas de nuestro Dataframe"
      ]
    },
    {
      "cell_type": "code",
      "metadata": {
        "id": "0jQBhgxMCR2w",
        "colab_type": "code",
        "colab": {
          "base_uri": "https://localhost:8080/",
          "height": 69
        },
        "outputId": "cc396cd6-91b5-4a67-d509-74b0e406b2ab"
      },
      "source": [
        "df.columns"
      ],
      "execution_count": 8,
      "outputs": [
        {
          "output_type": "execute_result",
          "data": {
            "text/plain": [
              "Index(['fecha', 'bicis-compartidas', 'temp-obs', 'sens-temp', 'hum', 'viento',\n",
              "       'codigo-clima', 'festivo', 'findesemana', 'cuartil-ano'],\n",
              "      dtype='object')"
            ]
          },
          "metadata": {
            "tags": []
          },
          "execution_count": 8
        }
      ]
    },
    {
      "cell_type": "markdown",
      "metadata": {
        "id": "yN2bUFUOC9y5",
        "colab_type": "text"
      },
      "source": [
        "## Definimos la variable sobre la cual vamos agenerar el analisis"
      ]
    },
    {
      "cell_type": "code",
      "metadata": {
        "id": "KeZlvaleDFDi",
        "colab_type": "code",
        "colab": {
          "base_uri": "https://localhost:8080/",
          "height": 34
        },
        "outputId": "733bb952-11f3-4452-a8b3-8516025c2f3f"
      },
      "source": [
        "y = df['bicis-compartidas'].values\n",
        "y"
      ],
      "execution_count": 10,
      "outputs": [
        {
          "output_type": "execute_result",
          "data": {
            "text/plain": [
              "array([182, 138, 134, ..., 337, 224, 139])"
            ]
          },
          "metadata": {
            "tags": []
          },
          "execution_count": 10
        }
      ]
    },
    {
      "cell_type": "markdown",
      "metadata": {
        "id": "kU_vd88ZTz0i",
        "colab_type": "text"
      },
      "source": [
        "## Eliminamos los ceros del array de la variable objetivo\n",
        "\n",
        "Donde el valor de y es igual a 0, lo remplazamos por el valor de 1 de lo contrario dejamos el mismo valor."
      ]
    },
    {
      "cell_type": "code",
      "metadata": {
        "id": "vbkuMOYyT50c",
        "colab_type": "code",
        "colab": {
          "base_uri": "https://localhost:8080/",
          "height": 34
        },
        "outputId": "4abd3e80-ea51-4126-830e-9e3300fb33b8"
      },
      "source": [
        "y = np.where(y == 0, 1, y)\n",
        "y"
      ],
      "execution_count": 11,
      "outputs": [
        {
          "output_type": "execute_result",
          "data": {
            "text/plain": [
              "array([182, 138, 134, ..., 337, 224, 139])"
            ]
          },
          "metadata": {
            "tags": []
          },
          "execution_count": 11
        }
      ]
    },
    {
      "cell_type": "markdown",
      "metadata": {
        "id": "b4ft91VqUWpf",
        "colab_type": "text"
      },
      "source": [
        "- Si lo que queremos es ver el valor minimo de la variable lo podemos hacer de la siguiente manera."
      ]
    },
    {
      "cell_type": "code",
      "metadata": {
        "id": "zVDOuXpBUej1",
        "colab_type": "code",
        "colab": {
          "base_uri": "https://localhost:8080/",
          "height": 34
        },
        "outputId": "56f49064-895a-4534-8b36-0d53336be07d"
      },
      "source": [
        "np.min(y)"
      ],
      "execution_count": 12,
      "outputs": [
        {
          "output_type": "execute_result",
          "data": {
            "text/plain": [
              "1"
            ]
          },
          "metadata": {
            "tags": []
          },
          "execution_count": 12
        }
      ]
    },
    {
      "cell_type": "markdown",
      "metadata": {
        "id": "mILtuQO5UhhB",
        "colab_type": "text"
      },
      "source": [
        "- Si lo que queremos es ver el valor maximo de la variable lo podemos hacer con la funcion max de numpy"
      ]
    },
    {
      "cell_type": "code",
      "metadata": {
        "id": "TW8mmumXUoJZ",
        "colab_type": "code",
        "colab": {
          "base_uri": "https://localhost:8080/",
          "height": 34
        },
        "outputId": "e4ee4041-6de1-486d-d9ce-035e157cf1af"
      },
      "source": [
        "np.max(y)"
      ],
      "execution_count": 13,
      "outputs": [
        {
          "output_type": "execute_result",
          "data": {
            "text/plain": [
              "7860"
            ]
          },
          "metadata": {
            "tags": []
          },
          "execution_count": 13
        }
      ]
    },
    {
      "cell_type": "markdown",
      "metadata": {
        "id": "LVuWFRLqUs8x",
        "colab_type": "text"
      },
      "source": [
        "## Calcular medidas de tendencia central sobre la variable objetivo."
      ]
    },
    {
      "cell_type": "markdown",
      "metadata": {
        "id": "K3bCtgcgVFLV",
        "colab_type": "text"
      },
      "source": [
        "- Calculo de la media"
      ]
    },
    {
      "cell_type": "code",
      "metadata": {
        "id": "fkDIX2mwU3pa",
        "colab_type": "code",
        "colab": {
          "base_uri": "https://localhost:8080/",
          "height": 34
        },
        "outputId": "53b20686-f386-4266-9240-6981591b2048"
      },
      "source": [
        "# Por medio de una funcion de numpy\n",
        "np.mean(y)"
      ],
      "execution_count": 15,
      "outputs": [
        {
          "output_type": "execute_result",
          "data": {
            "text/plain": [
              "1143.1016997817849"
            ]
          },
          "metadata": {
            "tags": []
          },
          "execution_count": 15
        }
      ]
    },
    {
      "cell_type": "code",
      "metadata": {
        "id": "OlKWsCllVLSq",
        "colab_type": "code",
        "colab": {
          "base_uri": "https://localhost:8080/",
          "height": 34
        },
        "outputId": "4a53de04-b2d4-467e-b2e8-d4270a244670"
      },
      "source": [
        "# Por medio de calculos con funciones de python\n",
        "sum(y)/len(y)"
      ],
      "execution_count": 16,
      "outputs": [
        {
          "output_type": "execute_result",
          "data": {
            "text/plain": [
              "1143.1016997817849"
            ]
          },
          "metadata": {
            "tags": []
          },
          "execution_count": 16
        }
      ]
    },
    {
      "cell_type": "markdown",
      "metadata": {
        "id": "eAmb8NO5VdRl",
        "colab_type": "text"
      },
      "source": [
        "- Calculo de la media geometrica"
      ]
    },
    {
      "cell_type": "code",
      "metadata": {
        "id": "MPM1q8ckVnUb",
        "colab_type": "code",
        "colab": {
          "base_uri": "https://localhost:8080/",
          "height": 34
        },
        "outputId": "c4b88c09-a893-4aeb-abc7-87205a5e7ccc"
      },
      "source": [
        "scipy.stats.mstats.hmean(y)"
      ],
      "execution_count": 17,
      "outputs": [
        {
          "output_type": "execute_result",
          "data": {
            "text/plain": [
              "241.65180305136826"
            ]
          },
          "metadata": {
            "tags": []
          },
          "execution_count": 17
        }
      ]
    },
    {
      "cell_type": "markdown",
      "metadata": {
        "id": "msoy20mlVwr-",
        "colab_type": "text"
      },
      "source": [
        "- Calculo de la mediana"
      ]
    },
    {
      "cell_type": "code",
      "metadata": {
        "id": "b-8vfcvVVyg6",
        "colab_type": "code",
        "colab": {
          "base_uri": "https://localhost:8080/",
          "height": 34
        },
        "outputId": "79c10bed-21ad-4eef-d40e-3f18230ff572"
      },
      "source": [
        "np.median(y)"
      ],
      "execution_count": 18,
      "outputs": [
        {
          "output_type": "execute_result",
          "data": {
            "text/plain": [
              "844.0"
            ]
          },
          "metadata": {
            "tags": []
          },
          "execution_count": 18
        }
      ]
    },
    {
      "cell_type": "markdown",
      "metadata": {
        "id": "FgsSSa4OV3v3",
        "colab_type": "text"
      },
      "source": [
        "- Calculo de la moda"
      ]
    },
    {
      "cell_type": "code",
      "metadata": {
        "id": "_sbM-OZOV7Ec",
        "colab_type": "code",
        "colab": {
          "base_uri": "https://localhost:8080/",
          "height": 34
        },
        "outputId": "36b5edbf-e16b-4c31-e412-cdf96f1f0b25"
      },
      "source": [
        "# valor de y con su maxima frecuencia\n",
        "moda = np.nan\n",
        "\n",
        "valores, conteo_valores = np.unique(y, return_counts=True)\n",
        "posicion_con_valor_maximo = np.argmax(conteo_valores)\n",
        "moda = valores[posicion_con_valor_maximo]\n",
        "moda"
      ],
      "execution_count": 22,
      "outputs": [
        {
          "output_type": "execute_result",
          "data": {
            "text/plain": [
              "46"
            ]
          },
          "metadata": {
            "tags": []
          },
          "execution_count": 22
        }
      ]
    },
    {
      "cell_type": "markdown",
      "metadata": {
        "id": "_MJ7zfJEWzIR",
        "colab_type": "text"
      },
      "source": [
        "- Calculo de la desviación estandar"
      ]
    },
    {
      "cell_type": "code",
      "metadata": {
        "id": "VoKQ8AuRW8b2",
        "colab_type": "code",
        "colab": {
          "base_uri": "https://localhost:8080/",
          "height": 34
        },
        "outputId": "e48187d0-7084-4605-fc9d-56f75bac60e5"
      },
      "source": [
        "np.std(y)"
      ],
      "execution_count": 23,
      "outputs": [
        {
          "output_type": "execute_result",
          "data": {
            "text/plain": [
              "1085.0768508213835"
            ]
          },
          "metadata": {
            "tags": []
          },
          "execution_count": 23
        }
      ]
    }
  ]
}